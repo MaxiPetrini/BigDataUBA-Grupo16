{
 "cells": [
  {
   "cell_type": "markdown",
   "metadata": {},
   "source": [
    "### TRABAJO PRÁCTICO N° 4 MÉTODOS SUPERVISADOS: REGRESIÓN & CLASIFICACIÓN USANDO LA EHP"
   ]
  },
  {
   "cell_type": "markdown",
   "metadata": {},
   "source": [
    "#### A. Enfoque de validación"
   ]
  },
  {
   "cell_type": "markdown",
   "metadata": {},
   "source": [
    "###"
   ]
  },
  {
   "cell_type": "code",
   "execution_count": 4,
   "metadata": {},
   "outputs": [],
   "source": [
    "import pandas as pd\n",
    "import numpy as np\n",
    "from sklearn.model_selection import train_test_split\n",
    "\n",
    "class DivisionDatos:\n",
    "    def __init__(self):\n",
    "        self.variables_independientes = ['CH04', 'CH06', 'CAT_OCUP', 'PP02H', 'CH08']\n",
    "        self.datos = None\n",
    "        \n",
    "    def cargar_datos(self, archivo=\"Base_Respondieron.xlsx\"):\n",
    "        self.datos = pd.read_excel(archivo)\n",
    "        columnas_necesarias = ['ESTADO', 'ANO4'] + self.variables_independientes\n",
    "        self.datos = self.datos.dropna(subset=columnas_necesarias)\n",
    "        return self\n",
    "    \n",
    "    def preparar_variables(self, df):\n",
    "        y = (df['ESTADO'] == 'Desocupado').astype(int)\n",
    "        X = pd.get_dummies(df[self.variables_independientes], drop_first=True)\n",
    "        X.insert(0, 'intercepto', 1)\n",
    "        return X, y\n",
    "    \n",
    "    def dividir_por_año(self, año):\n",
    "        df_año = self.datos[self.datos['ANO4'] == año].copy()\n",
    "        if len(df_año) == 0:\n",
    "            return None\n",
    "        \n",
    "        X, y = self.preparar_variables(df_año)\n",
    "        X_train, X_test, y_train, y_test = train_test_split(X, y, test_size=0.7, random_state=444, stratify=y)\n",
    "        \n",
    "        return {\n",
    "            'X_train': X_train, 'X_test': X_test, 'y_train': y_train, 'y_test': y_test, 'df_año': df_año, 'año': año\n",
    "        }\n",
    "    \n",
    "    def guardar_datasets(self, resultado):\n",
    "        año = resultado['año']\n",
    "        \n",
    "        train_df = resultado['X_train'].copy()\n",
    "        train_df['y_desocupado'] = resultado['y_train'].values\n",
    "        test_df = resultado['X_test'].copy()\n",
    "        test_df['y_desocupado'] = resultado['y_test'].values\n",
    "        \n",
    "        train_df.astype(int).to_excel(f'train_data_{año}.xlsx', index=False)\n",
    "        test_df.astype(int).to_excel(f'test_data_{año}.xlsx', index=False)\n",
    "        \n",
    "        df_año = resultado['df_año']\n",
    "        X_original, y_original = self.preparar_variables(df_año)\n",
    "        X_train_temp, X_test_temp, _, _ = train_test_split(X_original, y_original, test_size=0.7, random_state=444, stratify=y_original)\n",
    "        \n",
    "        df_año.loc[X_train_temp.index].to_excel(f'train_original_{año}.xlsx', index=False)\n",
    "        df_año.loc[X_test_temp.index].to_excel(f'test_original_{año}.xlsx', index=False)\n",
    "    \n",
    "    def procesar_todos_los_años(self):\n",
    "        for año in sorted(self.datos['ANO4'].unique()):\n",
    "            resultado = self.dividir_por_año(año)\n",
    "            if resultado:\n",
    "                self.guardar_datasets(resultado)\n",
    "\n",
    "def main():\n",
    "    DivisionDatos().cargar_datos().procesar_todos_los_años()\n",
    "\n",
    "if __name__ == \"__main__\":\n",
    "    main() "
   ]
  },
  {
   "cell_type": "code",
   "execution_count": 5,
   "metadata": {},
   "outputs": [
    {
     "name": "stdout",
     "output_type": "stream",
     "text": [
      "Año 2004:\n",
      "  Variables: 102\n",
      "  Mayor diferencia: 0.0138\n",
      "  Promedio diferencias: 0.0019\n",
      "  Top 3 mayores diferencias:\n",
      "    1. CH04_Varón: 0.0138\n",
      "    2. CH08_No paga ni le descuentan: 0.0115\n",
      "    3. CH08_Obra social (incluye PAMI): -0.0094\n",
      "\n",
      "Año 2024:\n",
      "  Variables: 106\n",
      "  Mayor diferencia: 0.0078\n",
      "  Promedio diferencias: 0.0018\n",
      "  Top 3 mayores diferencias:\n",
      "    1. CH04_Varón: 0.0078\n",
      "    2. CH08_Obra social (incluye PAMI): 0.0063\n",
      "    3. CH06_21: -0.0061\n",
      "\n"
     ]
    }
   ],
   "source": [
    "import pandas as pd\n",
    "import numpy as np\n",
    "\n",
    "class AnalisisDiferenciasMedias:\n",
    "    def __init__(self):\n",
    "        self.años = [2004, 2024]\n",
    "        \n",
    "    def cargar_bases(self, año):\n",
    "        train_df = pd.read_excel(f'train_data_{año}.xlsx')\n",
    "        test_df = pd.read_excel(f'test_data_{año}.xlsx')\n",
    "        return train_df, test_df\n",
    "    \n",
    "    def calcular_diferencias_medias(self, train_df, test_df, año):\n",
    "        variables_x = [col for col in train_df.columns if col != 'y_desocupado']\n",
    "        \n",
    "        train_x = train_df[variables_x]\n",
    "        test_x = test_df[variables_x]\n",
    "        \n",
    "        medias_train = train_x.mean()\n",
    "        medias_test = test_x.mean()\n",
    "        \n",
    "        tabla_diferencias = pd.DataFrame({\n",
    "            'Variable': variables_x,\n",
    "            'Media_Train': medias_train.values,\n",
    "            'Media_Test': medias_test.values,\n",
    "            'Diferencia': (medias_train - medias_test).values,\n",
    "            'Diferencia_Abs': abs(medias_train - medias_test).values,\n",
    "            'Año': año\n",
    "        })\n",
    "        \n",
    "        tabla_diferencias = tabla_diferencias.sort_values('Diferencia_Abs', ascending=False)\n",
    "        return tabla_diferencias\n",
    "    \n",
    "    def analizar_todos_los_años(self):\n",
    "        for año in self.años:\n",
    "            train_df, test_df = self.cargar_bases(año)\n",
    "            tabla = self.calcular_diferencias_medias(train_df, test_df, año)\n",
    "            \n",
    "            print(f\"Año {año}:\")\n",
    "            print(f\"  Variables: {len(tabla)}\")\n",
    "            print(f\"  Mayor diferencia: {tabla['Diferencia_Abs'].max():.4f}\")\n",
    "            print(f\"  Promedio diferencias: {tabla['Diferencia_Abs'].mean():.4f}\")\n",
    "            \n",
    "            print(\"  Top 3 mayores diferencias:\")\n",
    "            for i, (_, row) in enumerate(tabla.head(3).iterrows()):\n",
    "                print(f\"    {i+1}. {row['Variable']}: {row['Diferencia']:.4f}\")\n",
    "            print()\n",
    "\n",
    "analizador = AnalisisDiferenciasMedias()\n",
    "analizador.analizar_todos_los_años()"
   ]
  }
 ],
 "metadata": {
  "kernelspec": {
   "display_name": "Python 3",
   "language": "python",
   "name": "python3"
  },
  "language_info": {
   "codemirror_mode": {
    "name": "ipython",
    "version": 3
   },
   "file_extension": ".py",
   "mimetype": "text/x-python",
   "name": "python",
   "nbconvert_exporter": "python",
   "pygments_lexer": "ipython3",
   "version": "3.13.2"
  }
 },
 "nbformat": 4,
 "nbformat_minor": 2
}
