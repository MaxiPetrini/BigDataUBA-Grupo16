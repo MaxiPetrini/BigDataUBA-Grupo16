{
 "cells": [
  {
   "cell_type": "markdown",
   "id": "ddad93bc-5cf3-49ca-83f1-1fe86a658339",
   "metadata": {},
   "source": [
    "# TRABAJO PRÁCTICO N° 2"
   ]
  },
  {
   "cell_type": "markdown",
   "id": "ad212ad5-c218-4ec1-8d74-5e9fa6ca7c2c",
   "metadata": {},
   "source": [
    "## Parte 1 - Ejercicio 1\n"
   ]
  },
  {
   "cell_type": "code",
   "execution_count": null,
   "id": "09df931d-4a4a-4a10-88a8-c02d6de9b8ee",
   "metadata": {},
   "outputs": [],
   "source": []
  },
  {
   "cell_type": "markdown",
   "id": "74ca36f7-e6f6-4b6d-8fa3-ce119a10844b",
   "metadata": {},
   "source": [
    "### Ejercicio 2 A\n"
   ]
  },
  {
   "cell_type": "code",
   "execution_count": null,
   "id": "0881c8cc-b01b-4a4f-8d09-fe33ba1fe389",
   "metadata": {},
   "outputs": [],
   "source": [
    "import pandas as pd\n",
    "import numpy as np\n",
    "\n",
    "# Cargar archivos\n",
    "df_2024 = pd.read_excel(\"usu_individual_T124.xlsx\")\n",
    "df_2004 = pd.read_stata(\"usu_individual_T104.dta\")\n",
    "\n",
    "df_2004 = df_2004[df_2004['region'] == \"Pampeana\"].copy()\n",
    "df_2024 = df_2024[df_2024['REGION'] == 43].copy()\n",
    "\n",
    "# 3. Estandarizar nombres de columnas (convertir todo a mayúsculas)\n",
    "df_2004.columns = df_2004.columns.str.upper()\n",
    "df_2024.columns = df_2024.columns.str.upper()\n",
    "\n",
    "\n",
    "# 5. Unir los dataframes preservando TODAS las columnas de AMBOS\n",
    "df_combined = pd.concat([df_2004, df_2024], \n",
    "                        ignore_index=True, \n",
    "                        join='outer')  # 'outer' conserva todas las columnas\n",
    "\n",
    "df_combined.to_excel(\"datos_region43.xlsx\", index=False)"
   ]
  },
  {
   "cell_type": "markdown",
   "id": "0fbc62ca-f4f6-425f-aa8e-f6554b0bbfc5",
   "metadata": {},
   "source": [
    "### Ejercicio 2 B"
   ]
  },
  {
   "cell_type": "code",
   "execution_count": null,
   "id": "afbd4ecc-9d54-4d38-a9d4-4bf55f437a34",
   "metadata": {},
   "outputs": [
    {
     "name": "stdout",
     "output_type": "stream",
     "text": [
      "Total de valores faltantes por columna:\n",
      "========================================\n",
      "CH03: 0 faltantes\n",
      "ESTADO: 0 faltantes\n",
      "CH14: 7312 faltantes\n",
      "CH12: 0 faltantes\n",
      "CH15_COD: 12581 faltantes\n",
      "PP07I: 8108 faltantes\n",
      "PP07J: 8108 faltantes\n",
      "PP07K: 8108 faltantes\n",
      "PP08F1: 8108 faltantes\n",
      "PP09B: 8108 faltantes\n",
      "INTENSI: 8108 faltantes\n",
      "========================================\n"
     ]
    }
   ],
   "source": [
    "Valores_faltantes = \"datos_region43.xlsx\"\n",
    "datos = pd.read_excel(Valores_faltantes)\n",
    "\n",
    "columnas_analizar = ['CH03','ESTADO','CH14','CH12','CH15_COD','PP07I', 'PP07J','PP07K', 'PP08F1', 'PP09B','INTENSI', 'PP3E_TOT', 'ADECOCUR', 'NIVEL_ED', 'CAT_OCUP']\n",
    "\n",
    "# Contar valores faltantes por columna\n",
    "print(\"Total de valores faltantes por columna:\")\n",
    "print(\"=\" * 40)\n",
    "\n",
    "for col in columnas_analizar:\n",
    "    if col in datos.columns:\n",
    "        faltantes = datos[col].isna().sum()\n",
    "        print(f\"{col}: {faltantes} faltantes\")\n",
    "    else:\n",
    "        print(f\"{col}: La columna no existe\")\n",
    "\n",
    "print(\"=\" * 40)"
   ]
  }
 ],
 "metadata": {
  "kernelspec": {
   "display_name": "base",
   "language": "python",
   "name": "python3"
  },
  "language_info": {
   "codemirror_mode": {
    "name": "ipython",
    "version": 3
   },
   "file_extension": ".py",
   "mimetype": "text/x-python",
   "name": "python",
   "nbconvert_exporter": "python",
   "pygments_lexer": "ipython3",
   "version": "3.12.7"
  }
 },
 "nbformat": 4,
 "nbformat_minor": 5
}
