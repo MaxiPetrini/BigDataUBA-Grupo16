{
 "cells": [
  {
   "cell_type": "markdown",
   "metadata": {
    "collapsed": true,
    "id": "Dh8MkXaG-c9Y",
    "jupyter": {
     "outputs_hidden": true
    }
   },
   "source": [
    "# Big Data y Machine Learning (UBA) -  2025\n",
    "\n",
    "## Trabajo Práctico 1: Jugando con APIs y WebScraping "
   ]
  },
  {
   "cell_type": "markdown",
   "metadata": {
    "id": "RhBlm6mZ-c9e"
   },
   "source": [
    "### Reglas de formato y presentación\n",
    "- El trabajo debe estar debidamente documentado comentado (utilizando #) para que tanto los docentes como sus compañeros puedan comprender el código fácilmente.\n",
    "\n",
    "- El mismo debe ser completado en este Jupyter Notebook y entregado como tal, es decir en un archivo .ipynb\n"
   ]
  },
  {
   "cell_type": "markdown",
   "metadata": {},
   "source": [
    "\n"
   ]
  },
  {
   "cell_type": "markdown",
   "metadata": {
    "id": "ZEjGaa4U-c9g"
   },
   "source": [
    "### Fecha de entrega:\n",
    "Viernes 4 de Abril a las 13:00 hs"
   ]
  },
  {
   "cell_type": "markdown",
   "metadata": {
    "id": "N9TU2y7E-c9h"
   },
   "source": [
    "### Modalidad de entrega\n",
    "- Al finalizar el trabajo práctico deben hacer un último <i>commit</i> en su repositorio de GitHub llamado “Entrega final del tp”. \n",
    "- Asegurense de haber creado una carpeta llamada TP1. Este Jupyter Notebook y el correspondiente al TP1 deben estar dentro de esa carpeta.\n",
    "- También deben enviar el link de su repositorio -para que pueda ser clonado y corregido- a mi correo 25RO35480961@campus.economicas.uba.ar. Usar de asunto de email <i>\"Big Data - TP 1 - Grupo #\"</i> y nombrar el archivo <i>\"TP1_Grupo #\"</i> donde # es el número de grupo que le fue asignado.\n",
    "- La última versión en el repositorio es la que será evaluada. Por lo que es importante que: \n",
    "    - No envien el correo hasta no haber terminado y estar seguros de que han hecho el <i>commit y push</i> a la versión final que quieren entregar. \n",
    "    - No hagan nuevos <i>push</i> despues de haber entregado su versión final. Esto generaría confusión acerca de que versión es la que quieren que se les corrija.\n",
    "- En resumen, la carpeta del repositorio debe incluir:\n",
    "    - El codigo\n",
    "    - Un documento Word (Parte A) donde esten las figuras y una breve descripción de las mismas.\n",
    "    - El excel con los links webscrappeados (Parte B)"
   ]
  },
  {
   "cell_type": "markdown",
   "metadata": {},
   "source": [
    "### Parte A"
   ]
  },
  {
   "cell_type": "markdown",
   "metadata": {
    "id": "ZXbrPraa-c9i"
   },
   "source": [
    "#### Ejercicio 1 - Jugando con APIs\n",
    "Usando la API del Banco Mundial [link](https://wbdata.readthedocs.io/en/stable/) , obtener dos series de indicadores para dos paises a elección en una consulta de búsqueda. Pueden buscar serie de indicadores de su interés."
   ]
  },
  {
   "cell_type": "code",
   "execution_count": 1,
   "metadata": {},
   "outputs": [
    {
     "name": "stdout",
     "output_type": "stream",
     "text": [
      "Datos económicos de Brasil:\n",
      "      PIB per cápita  Indice de Precios al Consumidor\n",
      "date                                                 \n",
      "2023    10294.866681                       213.875135\n",
      "2022     9281.333344                       204.482121\n",
      "2021     7972.536650                       187.117425\n",
      "2020     7074.193783                       172.774291\n",
      "2019     9029.833267                       167.397860\n",
      "Datos economicos de Uruguay:\n",
      "      PIB per cápita  Indice de Precios al Consumidor\n",
      "date                                                 \n",
      "2023    22797.811173                       277.191092\n",
      "2022    20691.973899                       261.824350\n",
      "2021    17888.211510                       239.976021\n",
      "2020    15789.685742                       222.719877\n",
      "2019    18315.735286                       202.921983\n"
     ]
    }
   ],
   "source": [
    "# Resolver acá\n",
    "import wbdata\n",
    "\n",
    "paises = [\"BRA\", \"URY\"]\n",
    "indicadores = {\n",
    "    \"NY.GDP.PCAP.CD\": \"PIB per cápita\",\n",
    "    \"FP.CPI.TOTL\": \"Indice de Precios al Consumidor\"\n",
    "}\n",
    "\n",
    "datos = wbdata.get_dataframe(indicadores, country=paises)\n",
    "\n",
    "datos_brasil = datos.loc[\"Brazil\"]\n",
    "datos_uruguay = datos.loc[\"Uruguay\"]\n",
    "\n",
    "print(\"Datos económicos de Brasil:\")\n",
    "print(datos_brasil.head())\n",
    "\n",
    "print(\"Datos economicos de Uruguay:\")\n",
    "print(datos_uruguay.head())"
   ]
  },
  {
   "cell_type": "markdown",
   "metadata": {},
   "source": [
    "#### Ejercicio 2 - Repaso de Pandas\n",
    "Realicen una estadistica descriptiva de ambas series de indicadores comparando los dos países."
   ]
  },
  {
   "cell_type": "code",
   "execution_count": 2,
   "metadata": {},
   "outputs": [
    {
     "name": "stdout",
     "output_type": "stream",
     "text": [
      "Estadistica descriptiva de Brasil\n",
      "       PIB per cápita  Indice de Precios al Consumidor\n",
      "count       64.000000                     4.400000e+01\n",
      "mean      4151.918500                     7.064479e+01\n",
      "std       3847.072417                     6.567639e+01\n",
      "min        231.564063                     3.572040e-10\n",
      "25%       1342.451702                     3.790331e-03\n",
      "50%       2583.937628                     5.849626e+01\n",
      "75%       7158.068164                     1.141419e+02\n",
      "max      13396.624357                     2.138751e+02\n",
      "Estadistica descriptiva de Uruguay\n",
      "       PIB per cápita  Indice de Precios al Consumidor\n",
      "count       64.000000                        64.000000\n",
      "mean      6447.228972                        52.533922\n",
      "std       6559.552210                        75.402761\n",
      "min        491.031760                         0.000004\n",
      "25%       1410.000826                         0.002745\n",
      "50%       3699.784431                         5.788026\n",
      "75%       8233.660281                        82.745568\n",
      "max      22797.811173                       277.191092\n",
      "\n",
      "\n",
      "Esta es la comparacion entre Brasil y Uruguay:\n",
      "               PIB per cápita  Indice de Precios al Consumidor\n",
      "Brasil  count       64.000000                     4.400000e+01\n",
      "        mean      4151.918500                     7.064479e+01\n",
      "        std       3847.072417                     6.567639e+01\n",
      "        min        231.564063                     3.572040e-10\n",
      "        25%       1342.451702                     3.790331e-03\n",
      "        50%       2583.937628                     5.849626e+01\n",
      "        75%       7158.068164                     1.141419e+02\n",
      "        max      13396.624357                     2.138751e+02\n",
      "Uruguay count       64.000000                     6.400000e+01\n",
      "        mean      6447.228972                     5.253392e+01\n",
      "        std       6559.552210                     7.540276e+01\n",
      "        min        491.031760                     3.750166e-06\n",
      "        25%       1410.000826                     2.745102e-03\n",
      "        50%       3699.784431                     5.788026e+00\n",
      "        75%       8233.660281                     8.274557e+01\n",
      "        max      22797.811173                     2.771911e+02\n"
     ]
    }
   ],
   "source": [
    "# Resolver acá\n",
    "import pandas as pd\n",
    "\n",
    "descripcion_brasil = datos_brasil.describe()\n",
    "descripcion_uruguay = datos_uruguay.describe()\n",
    "\n",
    "print(\"Estadistica descriptiva de Brasil\")\n",
    "print(descripcion_brasil)\n",
    "\n",
    "print(\"Estadistica descriptiva de Uruguay\")\n",
    "print(descripcion_uruguay)\n",
    "\n",
    "print(\"\") #Esto lo agregue para que haya espacio entre la comparacion y la estadistica descriptiva\n",
    "print(\"\")\n",
    "\n",
    "comparacion = pd.concat([descripcion_brasil, descripcion_uruguay], keys= [\"Brasil\", \"Uruguay\"])\n",
    "print(\"Esta es la comparacion entre Brasil y Uruguay:\")\n",
    "print(comparacion)"
   ]
  },
  {
   "cell_type": "markdown",
   "metadata": {},
   "source": [
    "#### Ejercicio 3 - Practicando con Matplotlib\n",
    "Armen dos gráficos distintos usando la librería Matplotlib (repasen Clase 4). Uno programandolo con el estilo *pyplot* y otro gráfico de estilo *orientada a objetos*"
   ]
  },
  {
   "cell_type": "code",
   "execution_count": null,
   "metadata": {},
   "outputs": [],
   "source": [
    "# Resolver acá estilo pyplot\n"
   ]
  },
  {
   "cell_type": "code",
   "execution_count": null,
   "metadata": {},
   "outputs": [],
   "source": [
    "# Resolver acá estilo orientado-objetos \n",
    "# Tip: aprovechar este estilo de programar una figura para hacerlo más lindo \n"
   ]
  },
  {
   "cell_type": "markdown",
   "metadata": {},
   "source": [
    "### Parte B"
   ]
  },
  {
   "cell_type": "markdown",
   "metadata": {},
   "source": [
    "#### Ejercicio 4\n",
    "De la página de noticias del [diario La Nación](https://www.lanacion.com.ar/) o cualquier diario que les interese, utilicen herramientas de web scraping para obtener los **links** de las noticias de la portada. Guarden los links obtenidos en un dataframe y expórtenlo a un archivo de excel.\n",
    "\n",
    "Nota 1: es posible que logren obtener los links a las noticias sin el dominio: \"https://www.lanacion.com.ar/\". De ser así, concatenen el dominio a la ruta del link obtenido, tal que se obtenga un link al que se pueda acceder. Es decir, que las cadenas de caracteres finales tendrán la forma: https://www.lanacion.com.ar/*texto_obtenido*)\n",
    "\n",
    "Nota 2: junto con su entrega, adjunten una captura de la página de noticias al momento de correr su código. Eso servirá al momento de la corrección para verificar que los links obtenidos hacen referencia a las noticias de ese día y hora."
   ]
  },
  {
   "cell_type": "code",
   "execution_count": null,
   "metadata": {},
   "outputs": [],
   "source": [
    "# Resolver acá\n"
   ]
  }
 ],
 "metadata": {
  "anaconda-cloud": {},
  "colab": {
   "name": "TP1 - Parte 1.ipynb",
   "provenance": []
  },
  "kernelspec": {
   "display_name": "base",
   "language": "python",
   "name": "python3"
  },
  "language_info": {
   "codemirror_mode": {
    "name": "ipython",
    "version": 3
   },
   "file_extension": ".py",
   "mimetype": "text/x-python",
   "name": "python",
   "nbconvert_exporter": "python",
   "pygments_lexer": "ipython3",
   "version": "3.12.7"
  }
 },
 "nbformat": 4,
 "nbformat_minor": 4
}
